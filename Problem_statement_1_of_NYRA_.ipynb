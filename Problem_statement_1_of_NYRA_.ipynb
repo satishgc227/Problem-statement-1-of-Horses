{
  "nbformat": 4,
  "nbformat_minor": 0,
  "metadata": {
    "colab": {
      "provenance": [],
      "authorship_tag": "ABX9TyNFA0Oa4gaNTAKrKwX+olLi",
      "include_colab_link": true
    },
    "kernelspec": {
      "name": "python3",
      "display_name": "Python 3"
    },
    "language_info": {
      "name": "python"
    }
  },
  "cells": [
    {
      "cell_type": "markdown",
      "metadata": {
        "id": "view-in-github",
        "colab_type": "text"
      },
      "source": [
        "<a href=\"https://colab.research.google.com/github/satishgc227/Problem-statement-1-of-Horses/blob/main/Problem_statement_1_of_NYRA_.ipynb\" target=\"_parent\"><img src=\"https://colab.research.google.com/assets/colab-badge.svg\" alt=\"Open In Colab\"/></a>"
      ]
    },
    {
      "cell_type": "code",
      "execution_count": 51,
      "metadata": {
        "id": "GYSlNp9L81UW"
      },
      "outputs": [],
      "source": [
        "import pandas as pd\n",
        "import numpy as np\n"
      ]
    },
    {
      "cell_type": "code",
      "source": [
        "data=pd.read_csv(\"/content/edited complete.csv\",encoding='latin1')"
      ],
      "metadata": {
        "colab": {
          "base_uri": "https://localhost:8080/"
        },
        "id": "T_SfQMd99CBK",
        "outputId": "d3568efa-284f-4732-cb20-baecad4f6b83"
      },
      "execution_count": 44,
      "outputs": [
        {
          "output_type": "stream",
          "name": "stderr",
          "text": [
            "/usr/local/lib/python3.7/dist-packages/IPython/core/interactiveshell.py:3326: DtypeWarning: Columns (3) have mixed types.Specify dtype option on import or set low_memory=False.\n",
            "  exec(code_obj, self.user_global_ns, self.user_ns)\n"
          ]
        }
      ]
    },
    {
      "cell_type": "code",
      "source": [
        "data.head()\n"
      ],
      "metadata": {
        "colab": {
          "base_uri": "https://localhost:8080/",
          "height": 444
        },
        "id": "tnv1tDim-2wg",
        "outputId": "b2a6f0ad-eb84-4464-b35f-ed949c37d1c3"
      },
      "execution_count": 45,
      "outputs": [
        {
          "output_type": "execute_result",
          "data": {
            "text/plain": [
              "  track_id   race_date  race_number  program_number   trakus_index   \\\n",
              "0      AQU  01-01-2019             9               6             73   \n",
              "1      AQU  01-01-2019             9               6             74   \n",
              "2      AQU  01-01-2019             9               6             63   \n",
              "3      AQU  01-01-2019             9               6             64   \n",
              "4      AQU  01-01-2019             9               6             65   \n",
              "\n",
              "   latitude   longitude   distance_id  course_type track_condition   \\\n",
              "0  40.672946  -73.827587           600           D              GD    \n",
              "1  40.672990  -73.827568           600           D              GD    \n",
              "2  40.672510  -73.827781           600           D              GD    \n",
              "3  40.672553  -73.827762           600           D              GD    \n",
              "4  40.672596  -73.827742           600           D              GD    \n",
              "\n",
              "   run_up_distance  race_type   purse  post_time   weight_carried   \\\n",
              "0                48        CLM  25000         420            120.0   \n",
              "1                48        CLM  25000         420            120.0   \n",
              "2                48        CLM  25000         420            120.0   \n",
              "3                48        CLM  25000         420            120.0   \n",
              "4                48        CLM  25000         420            120.0   \n",
              "\n",
              "                   jockey     odds  position_at_finish   \n",
              "0  Andre Shivnarine Worrie  2090.0                  8.0  \n",
              "1  Andre Shivnarine Worrie  2090.0                  8.0  \n",
              "2  Andre Shivnarine Worrie  2090.0                  8.0  \n",
              "3  Andre Shivnarine Worrie  2090.0                  8.0  \n",
              "4  Andre Shivnarine Worrie  2090.0                  8.0  "
            ],
            "text/html": [
              "\n",
              "  <div id=\"df-8ee0c5c0-8d41-45da-9f0b-dfdc88a3c6ab\">\n",
              "    <div class=\"colab-df-container\">\n",
              "      <div>\n",
              "<style scoped>\n",
              "    .dataframe tbody tr th:only-of-type {\n",
              "        vertical-align: middle;\n",
              "    }\n",
              "\n",
              "    .dataframe tbody tr th {\n",
              "        vertical-align: top;\n",
              "    }\n",
              "\n",
              "    .dataframe thead th {\n",
              "        text-align: right;\n",
              "    }\n",
              "</style>\n",
              "<table border=\"1\" class=\"dataframe\">\n",
              "  <thead>\n",
              "    <tr style=\"text-align: right;\">\n",
              "      <th></th>\n",
              "      <th>track_id</th>\n",
              "      <th>race_date</th>\n",
              "      <th>race_number</th>\n",
              "      <th>program_number</th>\n",
              "      <th>trakus_index</th>\n",
              "      <th>latitude</th>\n",
              "      <th>longitude</th>\n",
              "      <th>distance_id</th>\n",
              "      <th>course_type</th>\n",
              "      <th>track_condition</th>\n",
              "      <th>run_up_distance</th>\n",
              "      <th>race_type</th>\n",
              "      <th>purse</th>\n",
              "      <th>post_time</th>\n",
              "      <th>weight_carried</th>\n",
              "      <th>jockey</th>\n",
              "      <th>odds</th>\n",
              "      <th>position_at_finish</th>\n",
              "    </tr>\n",
              "  </thead>\n",
              "  <tbody>\n",
              "    <tr>\n",
              "      <th>0</th>\n",
              "      <td>AQU</td>\n",
              "      <td>01-01-2019</td>\n",
              "      <td>9</td>\n",
              "      <td>6</td>\n",
              "      <td>73</td>\n",
              "      <td>40.672946</td>\n",
              "      <td>-73.827587</td>\n",
              "      <td>600</td>\n",
              "      <td>D</td>\n",
              "      <td>GD</td>\n",
              "      <td>48</td>\n",
              "      <td>CLM</td>\n",
              "      <td>25000</td>\n",
              "      <td>420</td>\n",
              "      <td>120.0</td>\n",
              "      <td>Andre Shivnarine Worrie</td>\n",
              "      <td>2090.0</td>\n",
              "      <td>8.0</td>\n",
              "    </tr>\n",
              "    <tr>\n",
              "      <th>1</th>\n",
              "      <td>AQU</td>\n",
              "      <td>01-01-2019</td>\n",
              "      <td>9</td>\n",
              "      <td>6</td>\n",
              "      <td>74</td>\n",
              "      <td>40.672990</td>\n",
              "      <td>-73.827568</td>\n",
              "      <td>600</td>\n",
              "      <td>D</td>\n",
              "      <td>GD</td>\n",
              "      <td>48</td>\n",
              "      <td>CLM</td>\n",
              "      <td>25000</td>\n",
              "      <td>420</td>\n",
              "      <td>120.0</td>\n",
              "      <td>Andre Shivnarine Worrie</td>\n",
              "      <td>2090.0</td>\n",
              "      <td>8.0</td>\n",
              "    </tr>\n",
              "    <tr>\n",
              "      <th>2</th>\n",
              "      <td>AQU</td>\n",
              "      <td>01-01-2019</td>\n",
              "      <td>9</td>\n",
              "      <td>6</td>\n",
              "      <td>63</td>\n",
              "      <td>40.672510</td>\n",
              "      <td>-73.827781</td>\n",
              "      <td>600</td>\n",
              "      <td>D</td>\n",
              "      <td>GD</td>\n",
              "      <td>48</td>\n",
              "      <td>CLM</td>\n",
              "      <td>25000</td>\n",
              "      <td>420</td>\n",
              "      <td>120.0</td>\n",
              "      <td>Andre Shivnarine Worrie</td>\n",
              "      <td>2090.0</td>\n",
              "      <td>8.0</td>\n",
              "    </tr>\n",
              "    <tr>\n",
              "      <th>3</th>\n",
              "      <td>AQU</td>\n",
              "      <td>01-01-2019</td>\n",
              "      <td>9</td>\n",
              "      <td>6</td>\n",
              "      <td>64</td>\n",
              "      <td>40.672553</td>\n",
              "      <td>-73.827762</td>\n",
              "      <td>600</td>\n",
              "      <td>D</td>\n",
              "      <td>GD</td>\n",
              "      <td>48</td>\n",
              "      <td>CLM</td>\n",
              "      <td>25000</td>\n",
              "      <td>420</td>\n",
              "      <td>120.0</td>\n",
              "      <td>Andre Shivnarine Worrie</td>\n",
              "      <td>2090.0</td>\n",
              "      <td>8.0</td>\n",
              "    </tr>\n",
              "    <tr>\n",
              "      <th>4</th>\n",
              "      <td>AQU</td>\n",
              "      <td>01-01-2019</td>\n",
              "      <td>9</td>\n",
              "      <td>6</td>\n",
              "      <td>65</td>\n",
              "      <td>40.672596</td>\n",
              "      <td>-73.827742</td>\n",
              "      <td>600</td>\n",
              "      <td>D</td>\n",
              "      <td>GD</td>\n",
              "      <td>48</td>\n",
              "      <td>CLM</td>\n",
              "      <td>25000</td>\n",
              "      <td>420</td>\n",
              "      <td>120.0</td>\n",
              "      <td>Andre Shivnarine Worrie</td>\n",
              "      <td>2090.0</td>\n",
              "      <td>8.0</td>\n",
              "    </tr>\n",
              "  </tbody>\n",
              "</table>\n",
              "</div>\n",
              "      <button class=\"colab-df-convert\" onclick=\"convertToInteractive('df-8ee0c5c0-8d41-45da-9f0b-dfdc88a3c6ab')\"\n",
              "              title=\"Convert this dataframe to an interactive table.\"\n",
              "              style=\"display:none;\">\n",
              "        \n",
              "  <svg xmlns=\"http://www.w3.org/2000/svg\" height=\"24px\"viewBox=\"0 0 24 24\"\n",
              "       width=\"24px\">\n",
              "    <path d=\"M0 0h24v24H0V0z\" fill=\"none\"/>\n",
              "    <path d=\"M18.56 5.44l.94 2.06.94-2.06 2.06-.94-2.06-.94-.94-2.06-.94 2.06-2.06.94zm-11 1L8.5 8.5l.94-2.06 2.06-.94-2.06-.94L8.5 2.5l-.94 2.06-2.06.94zm10 10l.94 2.06.94-2.06 2.06-.94-2.06-.94-.94-2.06-.94 2.06-2.06.94z\"/><path d=\"M17.41 7.96l-1.37-1.37c-.4-.4-.92-.59-1.43-.59-.52 0-1.04.2-1.43.59L10.3 9.45l-7.72 7.72c-.78.78-.78 2.05 0 2.83L4 21.41c.39.39.9.59 1.41.59.51 0 1.02-.2 1.41-.59l7.78-7.78 2.81-2.81c.8-.78.8-2.07 0-2.86zM5.41 20L4 18.59l7.72-7.72 1.47 1.35L5.41 20z\"/>\n",
              "  </svg>\n",
              "      </button>\n",
              "      \n",
              "  <style>\n",
              "    .colab-df-container {\n",
              "      display:flex;\n",
              "      flex-wrap:wrap;\n",
              "      gap: 12px;\n",
              "    }\n",
              "\n",
              "    .colab-df-convert {\n",
              "      background-color: #E8F0FE;\n",
              "      border: none;\n",
              "      border-radius: 50%;\n",
              "      cursor: pointer;\n",
              "      display: none;\n",
              "      fill: #1967D2;\n",
              "      height: 32px;\n",
              "      padding: 0 0 0 0;\n",
              "      width: 32px;\n",
              "    }\n",
              "\n",
              "    .colab-df-convert:hover {\n",
              "      background-color: #E2EBFA;\n",
              "      box-shadow: 0px 1px 2px rgba(60, 64, 67, 0.3), 0px 1px 3px 1px rgba(60, 64, 67, 0.15);\n",
              "      fill: #174EA6;\n",
              "    }\n",
              "\n",
              "    [theme=dark] .colab-df-convert {\n",
              "      background-color: #3B4455;\n",
              "      fill: #D2E3FC;\n",
              "    }\n",
              "\n",
              "    [theme=dark] .colab-df-convert:hover {\n",
              "      background-color: #434B5C;\n",
              "      box-shadow: 0px 1px 3px 1px rgba(0, 0, 0, 0.15);\n",
              "      filter: drop-shadow(0px 1px 2px rgba(0, 0, 0, 0.3));\n",
              "      fill: #FFFFFF;\n",
              "    }\n",
              "  </style>\n",
              "\n",
              "      <script>\n",
              "        const buttonEl =\n",
              "          document.querySelector('#df-8ee0c5c0-8d41-45da-9f0b-dfdc88a3c6ab button.colab-df-convert');\n",
              "        buttonEl.style.display =\n",
              "          google.colab.kernel.accessAllowed ? 'block' : 'none';\n",
              "\n",
              "        async function convertToInteractive(key) {\n",
              "          const element = document.querySelector('#df-8ee0c5c0-8d41-45da-9f0b-dfdc88a3c6ab');\n",
              "          const dataTable =\n",
              "            await google.colab.kernel.invokeFunction('convertToInteractive',\n",
              "                                                     [key], {});\n",
              "          if (!dataTable) return;\n",
              "\n",
              "          const docLinkHtml = 'Like what you see? Visit the ' +\n",
              "            '<a target=\"_blank\" href=https://colab.research.google.com/notebooks/data_table.ipynb>data table notebook</a>'\n",
              "            + ' to learn more about interactive tables.';\n",
              "          element.innerHTML = '';\n",
              "          dataTable['output_type'] = 'display_data';\n",
              "          await google.colab.output.renderOutput(dataTable, element);\n",
              "          const docLink = document.createElement('div');\n",
              "          docLink.innerHTML = docLinkHtml;\n",
              "          element.appendChild(docLink);\n",
              "        }\n",
              "      </script>\n",
              "    </div>\n",
              "  </div>\n",
              "  "
            ]
          },
          "metadata": {},
          "execution_count": 45
        }
      ]
    },
    {
      "cell_type": "markdown",
      "source": [
        "data.shape"
      ],
      "metadata": {
        "id": "gVQZBZJZ-_wA"
      }
    },
    {
      "cell_type": "code",
      "source": [
        "data.shape"
      ],
      "metadata": {
        "colab": {
          "base_uri": "https://localhost:8080/"
        },
        "id": "7XUP6kqcJH-m",
        "outputId": "eb0ec8bc-5e1f-44be-d7c9-3b4e06dcc578"
      },
      "execution_count": 46,
      "outputs": [
        {
          "output_type": "execute_result",
          "data": {
            "text/plain": [
              "(82256, 18)"
            ]
          },
          "metadata": {},
          "execution_count": 46
        }
      ]
    },
    {
      "cell_type": "code",
      "source": [
        "data.isnull().sum()"
      ],
      "metadata": {
        "colab": {
          "base_uri": "https://localhost:8080/"
        },
        "id": "F42bScwFJOll",
        "outputId": "c7cd02a1-9dd0-4b94-e710-b5fb1a122d28"
      },
      "execution_count": 49,
      "outputs": [
        {
          "output_type": "execute_result",
          "data": {
            "text/plain": [
              "track_id               0\n",
              "race_date              0\n",
              "race_number            0\n",
              "program_number         0\n",
              "trakus_index           0\n",
              "latitude               0\n",
              "longitude              0\n",
              "distance_id            0\n",
              "course_type            0\n",
              "track_condition        0\n",
              "run_up_distance        0\n",
              "race_type              0\n",
              "purse                  0\n",
              "post_time              0\n",
              "weight_carried         0\n",
              "jockey                 0\n",
              "odds                   0\n",
              "position_at_finish     0\n",
              "dtype: int64"
            ]
          },
          "metadata": {},
          "execution_count": 49
        }
      ]
    },
    {
      "cell_type": "code",
      "source": [
        "data = data.dropna(how='any',axis=0) "
      ],
      "metadata": {
        "id": "T-Cs9ZwRJIL2"
      },
      "execution_count": 48,
      "outputs": []
    },
    {
      "cell_type": "code",
      "source": [
        "data.isnull().sum()"
      ],
      "metadata": {
        "colab": {
          "base_uri": "https://localhost:8080/"
        },
        "id": "XrHUq3TjQvIZ",
        "outputId": "ca2d1e55-7882-480f-951e-f95e076e79f2"
      },
      "execution_count": 50,
      "outputs": [
        {
          "output_type": "execute_result",
          "data": {
            "text/plain": [
              "track_id               0\n",
              "race_date              0\n",
              "race_number            0\n",
              "program_number         0\n",
              "trakus_index           0\n",
              "latitude               0\n",
              "longitude              0\n",
              "distance_id            0\n",
              "course_type            0\n",
              "track_condition        0\n",
              "run_up_distance        0\n",
              "race_type              0\n",
              "purse                  0\n",
              "post_time              0\n",
              "weight_carried         0\n",
              "jockey                 0\n",
              "odds                   0\n",
              "position_at_finish     0\n",
              "dtype: int64"
            ]
          },
          "metadata": {},
          "execution_count": 50
        }
      ]
    },
    {
      "cell_type": "code",
      "source": [],
      "metadata": {
        "id": "G67z2cjDPstK"
      },
      "execution_count": 50,
      "outputs": []
    }
  ]
}